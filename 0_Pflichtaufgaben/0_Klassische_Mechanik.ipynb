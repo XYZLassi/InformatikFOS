{
 "cells": [
  {
   "cell_type": "markdown",
   "id": "92a4a959-4ae5-44ec-92fe-4908196ae2a2",
   "metadata": {
    "tags": []
   },
   "source": [
    "# Klassische Mechanik\n",
    "\n",
    "Die Pflichtaufgaben befassen sich mit einfachen Gleichungen der klassischen Mechanik. \n",
    "Mit den Übungsaufgaben lernen sie Python, als Hilfsmittel zu Berechnung von einfachen Gleichungen kennen.\n",
    "\n",
    "Dabei ist ein wichtiger Punkt bei der Programmierung von Algorithmen und Programmen, das Recherchieren von Lösungsmöglichkeiten für spezifische Probleme.\n",
    "Daher sind in diesem Beispiel einige Probleme der klassischen Mechanik aufgeführt.\n",
    "\n",
    "**Trainingsaufgaben:**\n",
    "\n",
    "1. Geschwindigkeit im freien Fall\n",
    "\n",
    "2. Beschleunigung eines PKWs\n",
    "\n",
    "**Pflichtaufgaben:**\n",
    "\n",
    "1. Energie eines bewegten Körpers\n",
    "\n",
    "2. Tiefe eines Schachtes\n",
    "\n",
    "3. Abschuss einer Leuchtkugel\n",
    "\n",
    "**Weiterführende Aufgaben:**\n",
    "\n",
    "1. Geschwindigkeit im freien Fall - Diagramm"
   ]
  },
  {
   "cell_type": "markdown",
   "id": "449cf3e4-0ec2-4935-a770-833cc852c9c2",
   "metadata": {
    "tags": []
   },
   "source": [
    "## Trainingsaufgaben"
   ]
  },
  {
   "cell_type": "markdown",
   "id": "080722ac-5b76-4d11-8a5b-bd15f1175bd3",
   "metadata": {
    "tags": []
   },
   "source": [
    "### Geschwindigkeit im freien Fall\n",
    "Welcher Endgeschwindigkeit erreicht ein aus der Ruhe frei fallender Körper nach der 1., 2., 3., 4. Sekunde.\n",
    "\n",
    "mit einer Fallbeschleunigung von $g=9,81 \\frac{\\text{m}}{\\text{s}^2}$\n",
    "\n",
    "**Grundvorausetzungen:**\n",
    "1. 1_Grundlagen/0_Grundrechenarten"
   ]
  },
  {
   "cell_type": "code",
   "execution_count": null,
   "id": "3b9e406c-fae9-49c7-8ac6-9662c02033a1",
   "metadata": {},
   "outputs": [],
   "source": [
    "# 1. Sekunde\n"
   ]
  },
  {
   "cell_type": "code",
   "execution_count": null,
   "id": "843dfc4b-22cf-4824-a1d3-6329c5084644",
   "metadata": {},
   "outputs": [],
   "source": [
    "# 2. Sekunde\n"
   ]
  },
  {
   "cell_type": "code",
   "execution_count": null,
   "id": "3e000148-2f40-481f-9e09-7c7a009c9a54",
   "metadata": {},
   "outputs": [],
   "source": [
    "# 3. Sekunde\n"
   ]
  },
  {
   "cell_type": "code",
   "execution_count": null,
   "id": "54ea3bb5-4428-451c-af90-43a22bd2b00b",
   "metadata": {},
   "outputs": [],
   "source": [
    "# 4. sekunde\n"
   ]
  },
  {
   "cell_type": "markdown",
   "id": "e0cdecb0-84a9-4313-a5e6-8f66c461e923",
   "metadata": {},
   "source": [
    "**Lösungen:**\n",
    "1. Sekunde: $9,81 \\frac{\\text{m}}{s}$\n",
    "2. Sekunde: $19,62 \\frac{\\text{m}}{s}$\n",
    "3. Sekunde: $29,43 \\frac{\\text{m}}{s}$\n",
    "4. Sekunde: $39,24 \\frac{\\text{m}}{s}$"
   ]
  },
  {
   "cell_type": "markdown",
   "id": "c7b97f37-f074-48c0-a717-00463f2f9da0",
   "metadata": {
    "jp-MarkdownHeadingCollapsed": true,
    "tags": []
   },
   "source": [
    "### Beschleunigung eines PKWs\n",
    "\n",
    "Ein PKW wird in $15 \\text{s}$ von der Geschwindigkeit $90 \\frac{\\text{km}}{h}$ auf $126 \\frac{\\text{km}}{h}$ gleichmäßig Beschleunigt.\n",
    "\n",
    "1. Wie groß ist die Beschleunigung?\n",
    "\n",
    "2. welcher Gesamtweg wird während der Beschleunigung zurück gelegt?\n",
    "\n",
    "3. Wie ändert sich Beschleunigung und Gesamtweg, wenn die Geschwindigkeitsänderung $10 \\text{s}$ erreicht werden soll\n",
    "\n",
    "**Grundvorausetzungen:**\n",
    "1. 1_Grundlagen/0_Grundrechenarten\n",
    "\n",
    "**Optional:**\n",
    "\n",
    "1. 1_Grundlagen/3_Variablen"
   ]
  },
  {
   "cell_type": "markdown",
   "id": "c1524d54-165e-4e4d-9257-308e0bdc0d4d",
   "metadata": {},
   "source": [
    "**Lösungen:**\n",
    "\n",
    "1. $a = 0,66 \\frac{\\text{m}}{\\text{s}}$\n",
    "\n",
    "2. $b =450 \\text{m}$\n",
    "\n",
    "3. $a = 1 \\frac{\\text{m}}{\\text{s}}$ & $b = 300 \\text{m}$"
   ]
  },
  {
   "cell_type": "markdown",
   "id": "eb49905c-411d-4f75-8d0a-acbffa80968d",
   "metadata": {},
   "source": [
    "## Pflichtaufgaben"
   ]
  },
  {
   "cell_type": "markdown",
   "id": "ad6136ba-32b0-4dcc-9e84-811c08d6fae7",
   "metadata": {
    "tags": []
   },
   "source": [
    "### Energie eines bewegten Körpers\n",
    "\n",
    "Berechnen Sie die kinetische Energie einer Kugel, welche eine Masse von $5 \\text{kg}$ hat und sich mit einer Geschwindigkeit von $50 \\frac{\\text{m}}{\\text{s}}$ bewegt."
   ]
  },
  {
   "cell_type": "code",
   "execution_count": null,
   "id": "ad749db2-2bb2-42fa-89ed-6cff971088e0",
   "metadata": {},
   "outputs": [],
   "source": []
  },
  {
   "cell_type": "markdown",
   "id": "2618db9b-328b-41b3-acd1-d3946c6be993",
   "metadata": {},
   "source": [
    "### Tiefe eines Schachtes\n",
    "\n",
    "Um die tiefe eines Schachtes zu bestimmen, läßt man ein Stein fallen. 4,6 Sekunden nach dem Loslassen des Steines hört man seinen Aufschlag.\n",
    "\n",
    "1. Wie tief ist der Schacht unter Vernachlässigung der Laufzeit des Schalles?\n",
    "\n",
    "2. Wie groß ist die Schachttiefe unter Berücksichtigung der Schallgeschwindigkeit $c= 340 \\frac{\\text{m}}{\\text{s}}$?\n",
    "\n",
    "Hinweis: Für Aufgabe 2 gilt folgende Gleichung:\n",
    "\n",
    "$h = \\left(- \\frac{c}{\\sqrt{2 g}} + \\sqrt{ \\frac{c^2}{2g} + t c }  \\right)^2$"
   ]
  },
  {
   "cell_type": "code",
   "execution_count": null,
   "id": "f30d1845-95b8-4426-86d8-de766355086b",
   "metadata": {},
   "outputs": [],
   "source": []
  },
  {
   "cell_type": "markdown",
   "id": "b81014d7-11df-457b-be7a-f92e75e3f7cb",
   "metadata": {},
   "source": [
    "### Abschuss einer Leuchtkugel\n",
    "\n",
    "Eine Leuchtkugel wird mit $v_a = 100 \\frac{\\text{m}}{\\text{s}}$ senkrecht nach oben geschossen. \n",
    "\n",
    "1. In welcher Höhe würde sie ohne Berücksichtigung des Luftwiderstandes nach $t = 8 \\text{s}$ sein? \n",
    "\n",
    "2. Wo ist sie nach einer Zeit von $t = 12 s$?"
   ]
  },
  {
   "cell_type": "code",
   "execution_count": null,
   "id": "0024e0d6-f2d2-4350-907e-2109b995d7ae",
   "metadata": {},
   "outputs": [],
   "source": []
  },
  {
   "cell_type": "markdown",
   "id": "0643deb3-e4eb-462c-9fa9-64f1d7bc5958",
   "metadata": {},
   "source": [
    "## Weiterführende Aufgaben"
   ]
  },
  {
   "cell_type": "markdown",
   "id": "3aa9b5cd-dc0e-4ed0-a4ac-bda570bb16fb",
   "metadata": {},
   "source": [
    "### Geschwindigkeit im freien Fall - Diagramm\n",
    "\n",
    "1. Zeichnen Sie ein Diagramm, in dem die Geschwindigkeit eines Körpers im freien Fall über die Zeit(0 bis 10s) dargestellt wird.\n",
    "\n",
    "2. Zeichen Sie ein Diagramm, in dem der zurückgelegte Weg eines Körpers im freien Fall über die Zeit(0 bis 10s) dargestellt wird.\n",
    "\n",
    "**Grundvorausetzungen:**\n",
    "- 2_Scipy/0_Diagramme"
   ]
  },
  {
   "cell_type": "code",
   "execution_count": null,
   "id": "3602e1f0-e68b-4c84-8629-b5ef58d68c38",
   "metadata": {},
   "outputs": [],
   "source": []
  }
 ],
 "metadata": {
  "kernelspec": {
   "display_name": "Python 3 (ipykernel)",
   "language": "python",
   "name": "python3"
  },
  "language_info": {
   "codemirror_mode": {
    "name": "ipython",
    "version": 3
   },
   "file_extension": ".py",
   "mimetype": "text/x-python",
   "name": "python",
   "nbconvert_exporter": "python",
   "pygments_lexer": "ipython3",
   "version": "3.9.7"
  }
 },
 "nbformat": 4,
 "nbformat_minor": 5
}
