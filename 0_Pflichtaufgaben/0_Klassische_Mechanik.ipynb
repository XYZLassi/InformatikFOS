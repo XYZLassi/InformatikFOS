{
 "cells": [
  {
   "cell_type": "markdown",
   "id": "92a4a959-4ae5-44ec-92fe-4908196ae2a2",
   "metadata": {},
   "source": [
    "# Klassische Mechanik\n",
    "\n",
    "Die Pflichtaufgaben befassen sich mit einfachen Gleichungen der klassischen Mechanik. Mit den Übungsaufgaben lernen sie Python, als Taschenrechner zu nutzen, einfache Probleme zu lösen.\n",
    "\n",
    "**Trainingsaufgaben:**\n",
    "\n",
    "1. Geschwindigkeit im freien Fall\n",
    "\n",
    "**Pflichtaufgaben:**\n",
    "\n",
    "1. \n",
    "\n",
    "**Weiterführende Aufgaben:**\n",
    "\n",
    "1. "
   ]
  },
  {
   "cell_type": "markdown",
   "id": "449cf3e4-0ec2-4935-a770-833cc852c9c2",
   "metadata": {
    "tags": []
   },
   "source": [
    "## Trainingsaufgaben"
   ]
  },
  {
   "cell_type": "markdown",
   "id": "080722ac-5b76-4d11-8a5b-bd15f1175bd3",
   "metadata": {},
   "source": [
    "### Geschwindigkeit im freien Fall\n",
    "Welcher Endgeschwindigkeit erreicht ein aus der Ruhe frei fallender Körper nach der 1., 2., 3., 4. Sekunde.\n",
    "\n",
    "mit einer Fallbeschleunigung von $g=9,81 \\frac{\\text{m}}{\\text{s}^2}$\n",
    "\n",
    "**Grundvorausetzungen:**\n",
    "1. 1_Grundlagen/0_Grundrechenarten"
   ]
  },
  {
   "cell_type": "code",
   "execution_count": null,
   "id": "3b9e406c-fae9-49c7-8ac6-9662c02033a1",
   "metadata": {},
   "outputs": [],
   "source": [
    "# 1. Sekunde\n"
   ]
  },
  {
   "cell_type": "code",
   "execution_count": null,
   "id": "843dfc4b-22cf-4824-a1d3-6329c5084644",
   "metadata": {},
   "outputs": [],
   "source": [
    "# 2. Sekunde\n"
   ]
  },
  {
   "cell_type": "code",
   "execution_count": null,
   "id": "3e000148-2f40-481f-9e09-7c7a009c9a54",
   "metadata": {},
   "outputs": [],
   "source": [
    "# 3. Sekunde\n"
   ]
  },
  {
   "cell_type": "code",
   "execution_count": null,
   "id": "54ea3bb5-4428-451c-af90-43a22bd2b00b",
   "metadata": {},
   "outputs": [],
   "source": [
    "# 4. sekunde\n"
   ]
  },
  {
   "cell_type": "markdown",
   "id": "e0cdecb0-84a9-4313-a5e6-8f66c461e923",
   "metadata": {},
   "source": [
    "**Lösungen:**\n",
    "1. Sekunde: $9,81 \\frac{\\text{m}}{s}$\n",
    "2. Sekunde: $19,62 \\frac{\\text{m}}{s}$\n",
    "3. Sekunde: $29,43 \\frac{\\text{m}}{s}$\n",
    "4. Sekunde: $39,24 \\frac{\\text{m}}{s}$"
   ]
  },
  {
   "cell_type": "markdown",
   "id": "eb49905c-411d-4f75-8d0a-acbffa80968d",
   "metadata": {},
   "source": [
    "## Pflichtaufgaben"
   ]
  },
  {
   "cell_type": "markdown",
   "id": "0643deb3-e4eb-462c-9fa9-64f1d7bc5958",
   "metadata": {},
   "source": [
    "## Weiterführende Aufgaben"
   ]
  }
 ],
 "metadata": {
  "kernelspec": {
   "display_name": "Python 3 (ipykernel)",
   "language": "python",
   "name": "python3"
  },
  "language_info": {
   "codemirror_mode": {
    "name": "ipython",
    "version": 3
   },
   "file_extension": ".py",
   "mimetype": "text/x-python",
   "name": "python",
   "nbconvert_exporter": "python",
   "pygments_lexer": "ipython3",
   "version": "3.9.7"
  }
 },
 "nbformat": 4,
 "nbformat_minor": 5
}
