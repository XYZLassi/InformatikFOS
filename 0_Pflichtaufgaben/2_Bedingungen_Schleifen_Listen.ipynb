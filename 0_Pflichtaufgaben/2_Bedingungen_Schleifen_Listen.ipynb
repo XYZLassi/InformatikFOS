{
 "cells": [
  {
   "cell_type": "markdown",
   "id": "5253e02d-a838-4d46-b97a-74a54844abe5",
   "metadata": {},
   "source": [
    "## Bedingungen, Schleifen und Listen(Arrays)"
   ]
  },
  {
   "cell_type": "markdown",
   "id": "b046b8f7-167a-4a6b-a538-1e88830c71c7",
   "metadata": {},
   "source": [
    "### Bedingungen\n",
    "Manchmal ist es in der Informatik notwendig zwischen Richtig und Falsch zu unterscheiden. Dafür gibt es verschieden Begriffe 0 und 1, Wahr und Falsch, True und False, ..."
   ]
  },
  {
   "cell_type": "markdown",
   "id": "1d9797c0-eb03-49f6-903e-83ff5bbfaf4b",
   "metadata": {},
   "source": [
    "Im nachfolgenden Beispiel wird überprüft, ob $5 > 3$ ist:"
   ]
  },
  {
   "cell_type": "code",
   "execution_count": null,
   "id": "15c311da-b284-43b5-b079-bc8c2d816036",
   "metadata": {},
   "outputs": [],
   "source": [
    "print(5 > 3)"
   ]
  },
  {
   "cell_type": "markdown",
   "id": "9830ffca-2e88-4d7c-a917-ce8006263166",
   "metadata": {},
   "source": [
    "oder ob $5 < 3$ ist:"
   ]
  },
  {
   "cell_type": "code",
   "execution_count": null,
   "id": "a1e13ba0-dbeb-4d77-a111-2342a59fcccc",
   "metadata": {},
   "outputs": [],
   "source": [
    "print(5 < 3)"
   ]
  },
  {
   "cell_type": "markdown",
   "id": "5ab4f4d5-75c3-4fea-bba7-42eec8090324",
   "metadata": {},
   "source": [
    "Als Ergebnis wird einmal ``True``für $5 > 3$ zurückgeben und im anderen Fall  wird ``False`` für den Fall $5 < 3$ ausgeben. \n",
    "\n",
    "Damit stehen ab sofort auch **Vergleichsoperatoren** zur Verfügung:\n",
    "\n",
    "- Größer $>$: ``a > b``\n",
    "- Kleiner $<$: ``a < b``\n",
    "- Größer-Gleich $\\ge$: ``a >= b``\n",
    "- Kleiner-Gleich $\\le$: ``a <= b``\n",
    "- Ist-Gleich: ``a == b``\n",
    "- Ist-Ungleich: ``a != b``\n",
    "\n",
    "Zusätzlich gibt es noch den Operator ``not``, welcher ein Ergebnis negiert."
   ]
  },
  {
   "cell_type": "markdown",
   "id": "5ea0cf8c-53d3-434a-b93d-39b3b259968d",
   "metadata": {},
   "source": [
    "#### IF-Else-Statment\n",
    "\n",
    "Einen oft gebrauchter Befehl, ist das sogenannte ``IF ELSE``. Dieses ähnelt dem WennDann() in vielen Tabellenkalkulationen.\n",
    "\n",
    "Damit lassen sich in Abhängigkeit von Ausdrücken verschiedene Ereignisse betrachten:"
   ]
  },
  {
   "cell_type": "code",
   "execution_count": null,
   "id": "5dcdafcf-d788-4172-83d6-e0028010d1f1",
   "metadata": {},
   "outputs": [],
   "source": [
    "n = 5\n",
    "if n > 3:\n",
    "    print('n ist größer als 3')\n",
    "else:\n",
    "    print('n ist kleiner gleich 3')"
   ]
  },
  {
   "cell_type": "markdown",
   "id": "412620b4-373d-4446-893b-a92d96637a05",
   "metadata": {},
   "source": [
    "Der Code kann noch mit einem ``elif`` erweiter werden, sodass mehrere Fälle abgedeckt werden können."
   ]
  },
  {
   "cell_type": "code",
   "execution_count": null,
   "id": "c117fb8d-77a3-4478-aadc-b092529c67e7",
   "metadata": {},
   "outputs": [],
   "source": [
    "n = 5\n",
    "if n == 3:\n",
    "    print('n ist gleich 3')\n",
    "elif n > 3:\n",
    "    print('n ist größer als 3')\n",
    "else:\n",
    "    print('n ist kleiner 3')"
   ]
  },
  {
   "cell_type": "markdown",
   "id": "e05093ff-934d-4f1f-aacc-71c24e12d0f5",
   "metadata": {},
   "source": [
    "Dabei muss man betrachten, dass eine, sobald eine Aussage wahr ist, die anderen Aussagen nicht mehr betrachtet werden.\n",
    "Damit wird im folgenden Beispiel der Befehl ``print('n ist gleich 3')`` nie ausgeführt, weil ``n >= 3`` den Fall ``n == 3`` schon abdeckt."
   ]
  },
  {
   "cell_type": "code",
   "execution_count": null,
   "id": "043e6ef8-aa41-46f8-8645-be87eb73689c",
   "metadata": {},
   "outputs": [],
   "source": [
    "n = 3\n",
    "if n >= 3 : \n",
    "    print('n ist größer gleich 3')\n",
    "elif n == 3:\n",
    "    print('n ist gleich 3')\n",
    "else:\n",
    "    print('n ist kleiner 3')"
   ]
  },
  {
   "cell_type": "markdown",
   "id": "1e2c47af-3b98-41eb-b6f9-eaf05b235c64",
   "metadata": {},
   "source": [
    "\n",
    "### Schleifen\n",
    "\n",
    "Bei den Schleifen wird in zwei grundsätzliche Arten unterschieden, einmal in die While-Schleife und in die For-Schleife.\n",
    "\n",
    "Beide Schleifen-Arten unterschieden sich von ihrer Anwendung. Beide wiederholen aber ihren Code in einer Dauerschleife. Unterschiedlich ist nur die Anzahl der Durchläufe oder bis die Schleife abgebrochen wird."
   ]
  },
  {
   "cell_type": "markdown",
   "id": "968b0914-934b-4239-a4ef-9a9bb811f36c",
   "metadata": {},
   "source": [
    "#### While-Schleife\n",
    "\n",
    "Bei der While-Schleife wird die Schleife so lange ausgeführt, solange eine Ausdruck Wahr oder ``True`` ist. \n",
    "Im nachfolgenden Beispiel wird die Schleife ausgeführt so lang die Variable ``i < 5`` ist. "
   ]
  },
  {
   "cell_type": "code",
   "execution_count": null,
   "id": "f699dbca-2fb9-49de-a2ab-09705be71a70",
   "metadata": {},
   "outputs": [],
   "source": [
    "i = 0 \n",
    "while i < 5:\n",
    "    print(f'i ist {i}')\n",
    "    i += 1"
   ]
  },
  {
   "cell_type": "markdown",
   "id": "b42866e1-e9d3-40a6-b893-c32b5314d7b9",
   "metadata": {},
   "source": [
    "Dabei wird bei jedem Schleifendurchlauf am Anfang der Schleife überprüft ob die Bedingung noch erfüllt ist."
   ]
  },
  {
   "cell_type": "markdown",
   "id": "89ffa5d1-01ad-45d9-826e-4ab646851374",
   "metadata": {},
   "source": [
    "#### For-Schleife\n",
    "\n",
    "Die For-Schleife ist eine spezielle Schleife und wird in jeder Programmiersprache etwas anders definiert.\n",
    "\n",
    "In Python dient die For-Schleife dazu, iterierbare Objekte durchzugehen. Eines der wichtigsten Funktionen zum Erstellen solcher Objekte ist die Funktion ``range()``.\n",
    "\n",
    "Die Funktion ``range()`` erstellt ein Objekt, welchen anschließend von For-Schleife ausgelesen werden kann. \n",
    "\n",
    "Dazu die zwei folgenden Beispiele, indem die Zahlen von 0 bis 2 ausgeben werden."
   ]
  },
  {
   "cell_type": "code",
   "execution_count": null,
   "id": "3f03d74d-f638-4912-91f3-7ff4882b848d",
   "metadata": {},
   "outputs": [],
   "source": [
    "for i in range(3):\n",
    "    print(f'i ist gleich {i}')"
   ]
  },
  {
   "cell_type": "code",
   "execution_count": null,
   "id": "53eae78d-8a0a-4770-a4e4-b2417b13f69d",
   "metadata": {},
   "outputs": [],
   "source": [
    "liste = range(3)\n",
    "\n",
    "for i in liste:\n",
    "    print(f'i ist gleich {i}')"
   ]
  },
  {
   "cell_type": "markdown",
   "id": "bb69c5af-5040-42cb-97b0-71a2f0db76fd",
   "metadata": {},
   "source": [
    "Der ``range(3)``  Befehl erstellt dabei eine Liste der Zahlen von 0 bis 2. Damit erhalten sie **drei** fortlaufende Zahlen beginnend bei der Zahl 0."
   ]
  },
  {
   "cell_type": "markdown",
   "id": "2e0c39a8-87dd-47c9-883d-d9d1cb4b7d32",
   "metadata": {},
   "source": [
    "### Listen oder Arrays \n",
    "Listen oder Arrays sind eine fortlaufende Zahl von Objekten, ähnlich einer Einkaufliste.\n",
    "\n",
    "Ein einfaches Beispiel wäre eine Liste von Namen:"
   ]
  },
  {
   "cell_type": "code",
   "execution_count": null,
   "id": "b5382f54-9a4d-4b50-9444-8b690cda14a1",
   "metadata": {},
   "outputs": [],
   "source": [
    "vornamen = ['Martin', 'Lisa', 'Clauida', 'Harald']\n",
    "print(vornamen)"
   ]
  },
  {
   "cell_type": "markdown",
   "id": "1a43cd9f-8c94-4139-ada6-35d75687715a",
   "metadata": {
    "tags": []
   },
   "source": [
    "Listen werden in Python mit ``[]`` erstellt oder mit dem Befehl ``list()``.  In der Schreibweise ``[]`` können wie im oberen Beispiel direkt die Inhalte der Liste eingetragen werden."
   ]
  },
  {
   "cell_type": "markdown",
   "id": "a051f741-9176-4fc5-b4f7-3e9a7d3ef9cc",
   "metadata": {},
   "source": [
    "#### For-Schleife und Liste\n",
    "Wie schon beschrieben kann die For-Schleife dazu verwendet werden, Inhalte einer Liste auszugeben:"
   ]
  },
  {
   "cell_type": "code",
   "execution_count": null,
   "id": "01ba9a2e-6e72-48f9-a6f1-81157893fd95",
   "metadata": {},
   "outputs": [],
   "source": [
    "vornamen = ['Martin', 'Lisa', 'Clauida', 'Harald']\n",
    "\n",
    "for name in vornamen:\n",
    "    print(f'Hallo {name}')"
   ]
  }
 ],
 "metadata": {
  "kernelspec": {
   "display_name": "Python 3 (ipykernel)",
   "language": "python",
   "name": "python3"
  },
  "language_info": {
   "codemirror_mode": {
    "name": "ipython",
    "version": 3
   },
   "file_extension": ".py",
   "mimetype": "text/x-python",
   "name": "python",
   "nbconvert_exporter": "python",
   "pygments_lexer": "ipython3",
   "version": "3.9.7"
  }
 },
 "nbformat": 4,
 "nbformat_minor": 5
}
