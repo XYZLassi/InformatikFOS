{
 "cells": [
  {
   "cell_type": "markdown",
   "id": "0c5bbf98-dd8c-4092-b17d-5108c996370e",
   "metadata": {},
   "source": [
    "## Aufgabenstellung\n",
    "\n",
    "Ihre Aufgabe ist es bis zum 23.01.2022 12:00 Uhr zu lösen und abzugeben.\n",
    "\n",
    "### Benotung\n",
    "Die Benotung erfolgt wie nachfolgend beschrieben:\n",
    "\n",
    "- **Note 6**: Keine Lösung wurde abgeben\n",
    "- **Note 4**: Eine Lösung wurde abgeben, welche aber nicht funktioniert\n",
    "- **Note 3**: Eine Lösung wurde abgeben, welche funktioniert\n",
    "- **Note 2**: Zusatzaufgabe für die Note 2 wurde gelöst\n",
    "- **Note 1**: Zusatzaufgabe für die Note 1 wurde gelöst\n",
    "\n",
    "### Abgabe:\n",
    "Bitte geben Sie ihre .ipynb-Datei. Downloaden Sie dazu ihre erstellte Datei und laden Sie diese unter Info-Laßmann/Abgabe hoch.\n"
   ]
  },
  {
   "cell_type": "markdown",
   "id": "df4cd089-00d9-450c-97a8-0f4e50a36b14",
   "metadata": {},
   "source": [
    "### Aufgabe 1: Berechnen von Polynomen\n",
    "\n",
    "Erstellen Sie eine Funktion, welche Ihnen den Wert für ein beliebiges Polynom 3. Grades ($f(x) = a_3 x^3 + a_2 x^2 + a_1 2 x +  a_0$) für ein beliebiges $x$ anzeigt.\n",
    "Die Faktoren $a_0$ bis $a_3$ müssen als **Parameter** übergeben werden können.\n",
    "\n",
    "**Note 2:** Erweitern Sie die Funktion das der Funktionswert $f(x)$ **zurückgegeben** (``return``) wird und das Polynome bis zum Grad 6 möglich sind.\n",
    "\n",
    "**Note 1:** Erweitern Sie das Programm, sodass beliebige Polynome berechnet werden können."
   ]
  },
  {
   "cell_type": "markdown",
   "id": "63b10a4b-5dfe-414c-858e-5c0269490c45",
   "metadata": {},
   "source": [
    "## Aufgabe 2: Zinseszins\n",
    "Erstellen Sie eine Funktion, welche ihnen den Zinseszins einer Geldanlage berechnet. Dabei soll als Parameter das **Startkapital**, der **Jahreszins** und die **Laufzeit**\n",
    "übergeben werden.\n",
    "**Wikipedia:** https://de.wikipedia.org/wiki/Zinseszins\n",
    "\n",
    "**Note 2:** Erweitern Sie die Funktion, sodass jedes Jahr ein fester Betrag zusätzlich eingezahlt werden kann. \n",
    "\n",
    "**Note 1:** Erweitern oder schreiben Sie eine neue Funktion, sodass die Funktion nicht den Endbetrag übergibt, sondern die Laufzeit, um einen notwendigen Betrag zu erreichen."
   ]
  },
  {
   "cell_type": "markdown",
   "id": "2e21f778-fd5a-4733-8b0d-3989ef342734",
   "metadata": {},
   "source": [
    "## Aufgabe 3: Fakultät\n",
    "Erstellen Sie eine Funktion, welche ihnen die Fakultät ($n!$) berechnet. Der Parameter n muss dabei als Parameter in die Funktion übergeben werden sollen.\n",
    "\n",
    "**Note 2:** Erweitern Sie ihre Funktion, sodass automatisch das Ergebnis 0 zur geben wird, wenn die Zahl n < 0 ist.\n",
    "\n",
    "**Note 1:** Erweitern Sie ihre Funktion, sodass schon berechnete Ergebnisse gespeichert werden und nicht jedes Mal neue berechnet werden."
   ]
  },
  {
   "cell_type": "markdown",
   "id": "878ea40a-2905-4b3e-bf46-b5fe183c0b04",
   "metadata": {
    "tags": []
   },
   "source": [
    "## Aufgabe 4: größte Zweierpotenz\n",
    "\n",
    "Schreiben Sie eine Funktion, welche ihnen die größte 2er Potenz ausgibt, die noch kleiner als die Zahl $n$ ist. ($2^x < n$)\n",
    "\n",
    "**Note 2:** Erweitern Sie ihre Software, sodass auch andere Potenzen außer 2 möglich sind.\n",
    "\n",
    "**Note 1:** Erstelle Sie eine neue Funktion, sodass keine **Schleife** vorkommt oder diese bei gleichen Parametern nur einmal ausgeführt wird."
   ]
  },
  {
   "cell_type": "markdown",
   "id": "48dd9413-67f1-4eac-81fe-0bc6296f844e",
   "metadata": {},
   "source": [
    "## Aufgabe 5:  Summe von Zahlen\n",
    "\n",
    "Programmieren Sie eine Funktion, welche ihnen alle möglichen Summe zum Berechnen **eine natürliche Zahl $n$** ausgibt. Die Null ist dabei keine natürliche Zahl.\n",
    "\n",
    "z.B.: \n",
    "$n = 5$\n",
    "\n",
    "- $1 + 4 = 5$\n",
    "\n",
    "- $2 + 3 = 5$\n",
    "\n",
    "**Note 2:** Optimieren Sie ihr Programm, sodass nur eine Schleife gebraucht wird.\n",
    "\n",
    "**Note 1:** Verändern Sie ihr Programm, sodass die Summanden Primzahlen sind. Dabei reicht ein $n\\le 20$ aus. (z. B. 2 + 3 = 5, 3 + 3 = 6)"
   ]
  },
  {
   "cell_type": "markdown",
   "id": "10d991de-e1e4-4d29-baed-031480ff9d57",
   "metadata": {},
   "source": [
    "## Aufgabe 6: Multiplikation von Zahlen\n",
    "\n",
    "Programmieren Sie eine Funktion, welche ihnen alle möglichen Multiplikationen zum Errechnen **einer natürlichen Zahl $n$** ausgibt. Die Null ist dabei keine natürliche Zahl.\n",
    "\n",
    "z.B.: \n",
    "\n",
    "$n = 6$\n",
    "\n",
    "- $1 \\cdot 6 = 6$\n",
    "\n",
    "- $2 \\cdot 3 = 3$\n",
    "\n",
    "**Note 2:** Messen Sie die Ausführungszeit für verschiedene $n$.\n",
    "\n",
    "**Note 1:** Verändern Sie ihr Programm, sodass die Faktoren Primzahlen sind. Dabei reicht ein $n\\le 20$ aus."
   ]
  },
  {
   "cell_type": "markdown",
   "id": "eb862cab-75a0-45f6-9ecf-50b1c42baab0",
   "metadata": {
    "tags": []
   },
   "source": [
    "## Aufgabe 7: Teilbar durch 2\n",
    "\n",
    "Schreiben Sie eine Funktion, welche ihnen alle Zahlen von 1 bis $n$ ausgibt, welche durch 2 teilbar sind.\n",
    "\n",
    "**Note 2:** Erweitern Sie ihre Funktion, sodass ein beliebige Teiler angeben werden kann.\n",
    "\n",
    "**Note 1:** Erweitern Sie ihre Funktion, sodass eine Liste von Teilern angeben werden können."
   ]
  },
  {
   "cell_type": "markdown",
   "id": "95c6236d-a2e7-41d1-b339-2ebfdf70a6e0",
   "metadata": {},
   "source": [
    "## Aufgabe 8: Schaltjahr\n",
    "\n",
    "Schreiben Sie eine Funktion, welche ihnen überprüft, ob ein Jahr ein Schaltjahr ist.\n",
    "\n",
    "**Note 2:** Erweitern Sie die Funktion, dass Ihnen alle Schaltjahre von einschließlich 1900 bis einschließlich 2000 ausgibt.\n",
    "\n",
    "**Note 1:** Erweitern Sie die Funktion, sodass ein beliebiger Zeitraum eingeben werden kann und die Anzahl, die Summe der Tage für diesen Zeitraum angezeigt wird."
   ]
  },
  {
   "cell_type": "markdown",
   "id": "bb2890fd-9b61-445c-8792-c3a9982103b9",
   "metadata": {},
   "source": [
    "## Aufgabe 9: Mittelwert\n",
    "Programmieren Sie eine Funktion, welche ihnen den arithmetischen Mittelwert von 5 Zahlen berechnet und anzeigt.\n",
    "\n",
    "**Note 2:** Erweitern Sie ihre Funktion, sodass auch die Standardabweichung berechnet und angezeigt wird.\n",
    "\n",
    "**Note 1:** Erweitern Sie ihre Funktion, dass beliebig viele Zahlen als Parameter möglich sind."
   ]
  },
  {
   "cell_type": "markdown",
   "id": "83bae446-d86e-4f46-8dad-546b30dc15bb",
   "metadata": {
    "tags": []
   },
   "source": [
    "## Aufgabe 10: Geometrische Reihe\n",
    "\n",
    "Schreiben Sie eine Funktion, welche ihnen folgende Summe berechnet:\n",
    "\n",
    "$q^0 +  q^1 +  q^2 + q^3 + \\dots + q^n$ für q < 0.\n",
    "\n",
    "Dabei sollen $q$ und $n$ Argumente der Funktion sein.\n",
    "\n",
    "**Note 2:** Erweitern Sie ihre Funktion, sodass die Summe bis Unendlich ausgeführt  und automatisch stoppt, wenn die Änderung der Summe kleiner als 0.001 ist.\n",
    "\n",
    "**Note 1:** Erstellen Sie eine **neue Funktion**, welche die Summe bis Unendlich bildet, aber keine Schleife benötigt."
   ]
  },
  {
   "cell_type": "markdown",
   "id": "f8858e6c-1cac-4496-b27c-a31fa99f8cc5",
   "metadata": {},
   "source": [
    "## Aufgabe 11: Harmonische Reihe\n",
    "\n",
    "Schreiben Sie eine Funktion, welche ihnen folgende Summe berechnet:\n",
    "\n",
    "$1 + \\frac{1}{2} + \\frac{1}{3} + \\frac{1}{4} +  \\dots + \\frac{1}{n}$.\n",
    "\n",
    "Dabei ist $n$ ein Argument der Funktion.\n",
    "\n",
    "**Note 2:** Erweitern Sie ihre Funktion, sodass die Summe bis Unendlich ausgeführt  und automatisch stoppt, wenn die Änderung der Summe kleiner als 0.001 ist.\n",
    "\n",
    "**Note 1:** Ändern Sie ihre Funktion, sodass bei Aufruf mit ein bekannten $n$ die Summe nicht noch mal berechnet wird."
   ]
  }
 ],
 "metadata": {
  "kernelspec": {
   "display_name": "Python 3 (ipykernel)",
   "language": "python",
   "name": "python3"
  },
  "language_info": {
   "codemirror_mode": {
    "name": "ipython",
    "version": 3
   },
   "file_extension": ".py",
   "mimetype": "text/x-python",
   "name": "python",
   "nbconvert_exporter": "python",
   "pygments_lexer": "ipython3",
   "version": "3.9.7"
  }
 },
 "nbformat": 4,
 "nbformat_minor": 5
}
