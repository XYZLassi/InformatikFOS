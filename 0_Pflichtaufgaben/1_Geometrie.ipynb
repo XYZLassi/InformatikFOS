{
 "cells": [
  {
   "cell_type": "markdown",
   "id": "92a4a959-4ae5-44ec-92fe-4908196ae2a2",
   "metadata": {
    "tags": []
   },
   "source": [
    "# Einfache Algorithmen aus der Geometrie\n",
    "\n",
    "**Trainingsaufgaben:**\n",
    "\n",
    "1. Winkel einer Gerade\n",
    "\n",
    "**Pflichtaufgaben:**\n",
    "\n",
    "1. Erweitert - Winkel einer Gerade\n",
    "\n",
    "2. Erweitert - Tiefe eines Brunnen\n",
    "\n",
    "3. Einfacher Algorithmus/Berechnung\n",
    "\n",
    "**Weiterführende Aufgaben:**\n",
    "\n",
    "1. Euklidische Algorithmus"
   ]
  },
  {
   "cell_type": "markdown",
   "id": "449cf3e4-0ec2-4935-a770-833cc852c9c2",
   "metadata": {
    "tags": []
   },
   "source": [
    "## Trainingsaufgaben"
   ]
  },
  {
   "cell_type": "markdown",
   "id": "67a49e3c-a8f3-4f08-8689-8ddafa016a56",
   "metadata": {},
   "source": [
    "## Winkel einer Gerade\n",
    "\n",
    "Berechnen Sie den Winkel zwischen der Gerade $f(x) = 3x$ und der X-Achse und der Y-Achse.\n",
    "\n",
    "**Grundvorausetzungen:**\n",
    "\n",
    "- 1_Grundlagen/3_Mathemathische_Funktionen\n",
    "\n",
    "**Notwendige Gleichungen:**\n",
    "\n",
    "- $f(x) = m \\cdot x + n$\n",
    "\n",
    "- $\\alpha  = \\arccos{\\frac{1}{\\sqrt{1 + m^2}}}$\n"
   ]
  },
  {
   "cell_type": "code",
   "execution_count": null,
   "id": "52a84665-9fcf-4a44-aefc-bb94ab27e988",
   "metadata": {},
   "outputs": [],
   "source": []
  },
  {
   "cell_type": "markdown",
   "id": "d171b6a5-fc13-4620-b3c4-743552aa615f",
   "metadata": {},
   "source": [
    "**Lösung:**\n",
    "\n",
    "1. 1,25 Rad = 71,6 Grad"
   ]
  },
  {
   "cell_type": "markdown",
   "id": "9d66f788-804e-47b3-ba0a-b0266b67bb57",
   "metadata": {},
   "source": [
    "### Lösung einer Quatratischen Funktion\n",
    "\n",
    "Erstellen Sie eine Funktion, welche ihnen die erste Lösung einer quatratischen Gleichung $X_1$ berechnet.\n",
    "\n",
    "\n",
    "1. Berechnen Sie anschließen $X_1$ für die Gleichung $0 = 3 x^2 + 6 x - 12$\n",
    "\n",
    "**Grundvorausetzungen:**\n",
    "\n",
    "- 1_Grundlagen/3_Mathemathische_Funktionen\n",
    "- 1_Grundlagen/4_Funktionen\n",
    "\n",
    "**Notwendige Gleichungen:**\n",
    "\n",
    "- $0 = x^2 + p \\cdot x  + q$\n",
    "\n",
    "- $x_{1,2} = - \\frac{p}{2} \\pm \\sqrt{\\left( \\frac{p}{2} \\right)^2 - q}$\n"
   ]
  },
  {
   "cell_type": "code",
   "execution_count": null,
   "id": "8718e304-b20f-4d62-a6b2-94a7ff6efdad",
   "metadata": {},
   "outputs": [],
   "source": []
  },
  {
   "cell_type": "markdown",
   "id": "5f28e6f9-ef31-4484-afd7-bc86fc87fdb1",
   "metadata": {},
   "source": [
    "**Lösung:**\n",
    "\n",
    "1. $x_1 = 1,24$ und $x_2 = -3,24$ "
   ]
  },
  {
   "cell_type": "markdown",
   "id": "eb49905c-411d-4f75-8d0a-acbffa80968d",
   "metadata": {},
   "source": [
    "## Pflichtaufgaben"
   ]
  },
  {
   "cell_type": "markdown",
   "id": "5a9c812e-e501-46f9-8d5f-53147be8d358",
   "metadata": {},
   "source": [
    "### Erweitert - Winkel einer Gerade\n",
    "\n",
    "Erstellen Sie aus der Aufgabe 'Winkel einer Gerade' eine Funktion und berechnen Sie die Winkel für folgenden Gleichungen:\n",
    "\n",
    "- $f(x) = 3x$\n",
    "\n",
    "- $f(x) = 6x + 3$\n",
    "\n",
    "- $f(x) = 2x - 4$\n"
   ]
  },
  {
   "cell_type": "markdown",
   "id": "6fb3ef4d-42e4-46f9-824f-53a79d43522d",
   "metadata": {},
   "source": [
    "### Erweitert - Tiefe eines Brunnen\n",
    "\n",
    "Erstelle eine Funktion, welche die Tiefe eines Brunnen berechnet (Siehe 0_Pflichtaufgabe/0_Klassische_Mechanik). "
   ]
  },
  {
   "cell_type": "markdown",
   "id": "24af9ee0-b6c5-41ad-92ee-61dd311c7a17",
   "metadata": {},
   "source": [
    "### Einfacher Algorithmus/Berechnung\n",
    "\n",
    "Erstellen Sie eine Funktion mit einen beliebigen Algorthmus oder Berechnung, welche Sie in ihrem Alltag gebrauchen können"
   ]
  },
  {
   "cell_type": "markdown",
   "id": "0643deb3-e4eb-462c-9fa9-64f1d7bc5958",
   "metadata": {
    "tags": []
   },
   "source": [
    "## Weiterführende Aufgaben"
   ]
  },
  {
   "cell_type": "markdown",
   "id": "dd5c0db2-387f-468d-9774-6689cdc1315e",
   "metadata": {},
   "source": [
    "### Euklidische Algorithmus\n",
    "\n",
    "Der euklidische Algorithmus gehört mit den wichtigsten Algorithmen der Informatik und der angewandten Mathematik. \n",
    "Der Algorithmus bestimmt aus zwei ganzen Zahlen den größten gemeinsamen Teiler.\n",
    "\n",
    "**Aufgabe:**\n",
    "\n",
    "1. Implementieren Sie den euklidischen Algorithmus und bestimmen Sie den größten gemeinsamen Teiler der Zahlen 562 und 238\n",
    "\n",
    "Wikipedia: https://de.wikipedia.org/wiki/Euklidischer_Algorithmus\n",
    "\n",
    "Videos:\n",
    "    \n",
    "- https://youtu.be/bYQxRQvQEto\n",
    "- https://youtu.be/8hgVQcZZ9oI\n",
    "\n"
   ]
  }
 ],
 "metadata": {
  "kernelspec": {
   "display_name": "Python 3 (ipykernel)",
   "language": "python",
   "name": "python3"
  },
  "language_info": {
   "codemirror_mode": {
    "name": "ipython",
    "version": 3
   },
   "file_extension": ".py",
   "mimetype": "text/x-python",
   "name": "python",
   "nbconvert_exporter": "python",
   "pygments_lexer": "ipython3",
   "version": "3.9.7"
  }
 },
 "nbformat": 4,
 "nbformat_minor": 5
}
