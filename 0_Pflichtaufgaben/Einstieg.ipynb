{
 "cells": [
  {
   "cell_type": "markdown",
   "id": "9281e47b-7589-4d01-8209-989862c053e9",
   "metadata": {
    "tags": []
   },
   "source": [
    "## Einleitung\n",
    "Laut Wikipedia ist ein Algorithmus folgendes:\n",
    "> Ein **Algorithmus** ist eine eindeutige Handlungsvorschrift zur Lösung eines Probelms oder einer Klasse von Problemen. Algorithmen bestehen aus endlich vielen, wohldefinierten Einzelschritten. Damit können sie zur Ausführung in ein Computerprogramm implementiert, aber auch in menschlicher Sprache formuliert werden. Bei der Problemlösung wird eine bestimmte Eingabe in eine bestimmte Ausgabe überführt.\n",
    "> **Quelle**: https://de.wikipedia.org/wiki/Algorithmus\n",
    "\n",
    "![](https://upload.wikimedia.org/wikipedia/commons/1/11/1983_CPA_5426_%281%29.png)\n",
    "Al-Chwarizmi, der aus Choresmien stammende Namensgeber des _Algorithmus_, auf einer sowjetischen Briefmarke anlässlich seines 1200-jährigen Geburtsjubiläums\n",
    "\n",
    "Ein Kochrezept beschreibt einer der bekanntesten Formen eines Algorithmus, dabei kann es sich um ein kompliziertes Rezept für eine Hochzeitstorte handeln oder ein einfaches Rezept für Bratkartoffeln sein."
   ]
  },
  {
   "cell_type": "markdown",
   "id": "a0d002c1-6b48-42c5-b5cf-4b43f2279742",
   "metadata": {},
   "source": [
    "## Was ist Python\n",
    "\n",
    "\n",
    "Python wurde Anfang der 199er Jahre von Guido van Rossum, als Nachfolger der Programmier-Lehrsprache ABC entwickelt. Der Name Python bezieht sich dabei nicht auf die gleichnamige Schlange, welche auch das Logo der Programmiersprache ziert, sondern auf die Komiker Monty Phyton.\n",
    "\n",
    "Python wurde mit dem Ziel größter Einfachheit und Übersichtlichkeit entworfen. \n",
    "\n",
    "![Logo von Python](https://upload.wikimedia.org/wikipedia/commons/f/f8/Python_logo_and_wordmark.svg)"
   ]
  },
  {
   "cell_type": "markdown",
   "id": "12a63076-3254-436a-87a6-e81b3d3307e8",
   "metadata": {},
   "source": [
    "## Erste Schritte in Python"
   ]
  },
  {
   "cell_type": "markdown",
   "id": "6fc1e7ed-e6aa-496a-bf27-19e1d6ca5e0e",
   "metadata": {},
   "source": [
    "### Hello World\n",
    "In vielen Programmiersprachen ist es üblich, das Programm [Hello World](https://de.wikipedia.org/wiki/Hallo-Welt-Programm) als erstes Programm beim Erlernen einer neuen Programmiersprache aus zuführen:\n",
    "Führen Sie dazu mit Strg+Enter die nächste Zeile aus."
   ]
  },
  {
   "cell_type": "code",
   "execution_count": null,
   "id": "a070bde2-895f-4e22-96c7-07e5ce15d7a4",
   "metadata": {},
   "outputs": [],
   "source": [
    "print(\"Hello World\")"
   ]
  },
  {
   "cell_type": "markdown",
   "id": "f91a2c85-0b6e-41f8-ade2-7dcb073e65a3",
   "metadata": {},
   "source": [
    "Mit dem Befehl ``print()`` können beliebige Texte auf dem Bildschirm ausgeführt werden. Probieren Sie es selbst aus.\n",
    "\n",
    "**Aufgabe:** Geben Sie zwei beliebige Texte in der Ausgabe mit dem ``print()`` Befehl aus. Der Text muss dafür in '' (zwei Hochkommas) oder \"\" (zwei Anführungszeichen stehen)."
   ]
  },
  {
   "cell_type": "markdown",
   "id": "c1853e3e-912b-44fa-ad89-e11703848433",
   "metadata": {},
   "source": [
    "### Rechnen mit Python\n",
    "Python kann auch als einfacher **Taschenrechner** verwendet werden. So können Sie etwa die Summe aus 3 + 5 mit Python ganz einfach berechnen lassen."
   ]
  },
  {
   "cell_type": "code",
   "execution_count": null,
   "id": "53069ad6-acdb-4b98-bf06-2f37fbff42d9",
   "metadata": {},
   "outputs": [],
   "source": [
    "3 + 5"
   ]
  },
  {
   "cell_type": "markdown",
   "id": "7fa83569-d132-4bf4-8bea-e73c2feef4ad",
   "metadata": {},
   "source": [
    "Na gut 8 das hätten Sie auch im Kopf hinbekommen.\n",
    "\n",
    "Neben der Addition stehen in natürlich auch folgende Operationen zur Verfügung:\n",
    "- Addieren: ``a + b``\n",
    "- Subtarieren: ``a - b``\n",
    "- Multiplizieren: ``a * b``\n",
    "- Dividieren: ``a / b``\n",
    "- Potenzieren: ``a ** b``\n",
    "\n",
    "Dabei gilt Punktrechnung vor Strichrechnung und mit Klammern  können Sie entsprechend die Prioritäten der Rechnung beeinflussen\n",
    "\n",
    "**Aufgabe:** Probieren Sie die Operatoren aus.\n",
    "\n",
    "**Hinweis:** Der ``print()`` Befehl kann auch Zahlen ausgeben"
   ]
  },
  {
   "cell_type": "code",
   "execution_count": null,
   "id": "15477381-9dac-46aa-a6da-8a8258a2ceeb",
   "metadata": {},
   "outputs": [],
   "source": [
    "print(3 + 5)"
   ]
  },
  {
   "cell_type": "markdown",
   "id": "49f67a8b-972f-4934-b71b-b76d329c746d",
   "metadata": {},
   "source": [
    "Manchmal müssen aber komplexere Funktionen her, dafür hat Python die math-Bibliothek. Diese kann über den Befehl ``import math``eingebunden werden. Damit weiß Python welche Funktionen eingebunden werden soll, als Vergleich es gibt noch die Mathematik Bibliothek CMath oder numpy.\n",
    "\n",
    "Unter https://docs.python.org/3/library/math.html finden Sie eine Auflistung aller Funktionen, welche die math-Bibilothek bereistellt.\n",
    "\n",
    "Im nachfolgenden Beispiel wird die Quadratwurzel (square root) aus 5 gezogen."
   ]
  },
  {
   "cell_type": "markdown",
   "id": "18ec6b25-c91f-42fc-bc5e-fee52bfdc600",
   "metadata": {},
   "source": [
    "#### Fließkommazahlen\n",
    "\n",
    "Viele Programmiersprachen orientieren sich am angloamerikanischen Sprachgebiet, daher werden Kommazahlen nicht wie bei uns üblich mit einem Komma, z.B. ``9,81`` mit einem Punkt ``9.81``. Daher kommt auch der Name Fließkommazahl (engl. Floating-Point-Number)"
   ]
  },
  {
   "cell_type": "code",
   "execution_count": null,
   "id": "086a6b0b-7bbe-46b9-8f99-e9825135da3f",
   "metadata": {},
   "outputs": [],
   "source": [
    "import math\n",
    "\n",
    "print(math.sqrt(5))"
   ]
  },
  {
   "cell_type": "markdown",
   "id": "d3783257-f5db-4712-8a14-ca0498036b15",
   "metadata": {},
   "source": [
    "\n",
    "An der Stelle noch ein kleiner Hinweis. Üblicher weise stehen in jeder Zeile eines Python-Programms ein neuer Befehl.\n",
    "Der Befehl ``import math`` muss nur einmal, meistens am Anfang des Programms, ausgeführt werde. Python kennt dann bis zum Ende die hinzugefügten Befehle."
   ]
  },
  {
   "cell_type": "markdown",
   "id": "3f27815c-3ac3-4b90-8289-e209f69965c0",
   "metadata": {},
   "source": [
    "**Aufgabe:** Berechnen Sie $x_1$ und $x_2$ der Gleichung $f(x) = x^2 + 5 x - 3$ "
   ]
  },
  {
   "cell_type": "code",
   "execution_count": null,
   "id": "9a94b77b-c0d9-43f4-bb1c-ebd92d277152",
   "metadata": {},
   "outputs": [],
   "source": [
    "# Hier könnte ihre Lösung stehen"
   ]
  },
  {
   "cell_type": "markdown",
   "id": "91f7926d-852f-4b1f-8650-b719e35828db",
   "metadata": {},
   "source": [
    "### Variablen\n",
    "\n",
    "In der Mathematik gibt es das Konzept der Variablen, dabei werden Werte, Funktionen oder andere mathematische Konstrukte in Variablen gespeichert.\n",
    "In Python gibt es Variablen z.B. ``x = 5`` in diesem Fall der Wert 5 in der Variablen $x$ gespeichert."
   ]
  },
  {
   "cell_type": "code",
   "execution_count": null,
   "id": "80b90745-94f3-4499-b9c7-49a29bfab2e6",
   "metadata": {},
   "outputs": [],
   "source": [
    "# Gleichung x^2 + 5*x - 3\n",
    "p = 5\n",
    "q = 3\n",
    "\n",
    "x_1 = 0 \n",
    "x_2 = 0"
   ]
  },
  {
   "cell_type": "markdown",
   "id": "a1cf385c-429f-4d32-9793-e76408d76530",
   "metadata": {},
   "source": [
    "Nach einer Anekdote soll Napoleon Bohnenart eine Schar von Mathematiker beschäftigt haben, welche die Reichweite der Kanonenkugeln berechnen sollten.\n",
    "\n",
    "Dabei kann die einfache Reichweite, ohne Einfluss von anderen Kräften, über folgende Gleichung berechnet werden:\n",
    "\n",
    "$x = \\frac{v_0^2 \\cdot \\sin 2 \\alpha}{g}$  mit\n",
    "\n",
    "$v_0 \\dots \\text{Startgeschwindigkeit}$\n",
    "\n",
    "$\\alpha \\dots \\text{Abwurfwinkel}$\n",
    "\n",
    "$g \\dots \\text{Fallbeschleunigung}$\n",
    "\n",
    "**Aufgabe:** Berechnen Sie die Flugweite einer Kanonenkugel, welche in einem Winkel von $30°$ mit einer Geschwindigkeit von $100 \\frac{\\text{m}}{s}$ abgeschossen wird.\n",
    "\n",
    "**Hinweis:** Der Winkel für die Sinus muss in Radians angegeben werden! Zwischen Radiant und Grad können Sie mit dem Befehl ``math.radians(grad)`` umrechnen"
   ]
  },
  {
   "cell_type": "code",
   "execution_count": null,
   "id": "84fdb77d-e66a-45c5-bdc9-12a0f4d63a05",
   "metadata": {},
   "outputs": [],
   "source": [
    "# Hier könnte ihre Lösung stehen"
   ]
  },
  {
   "cell_type": "markdown",
   "id": "3fbcb5dc-2a6f-4546-a22b-8f384c3c2350",
   "metadata": {
    "tags": []
   },
   "source": [
    "### Funktionen\n",
    "\n",
    "Das Kanonenkugelbeispiel ist für eine Kanone ja noch möglich. In der Schlacht von Waterloo hat die französische Armee 164 Kanonen eingesetzt, wenn jede Kanone alle 5 Minuten ein Schuss abgibt, wären das ungefähr 2000 Schüsse pro Stunden welche berechnet werden müssten."
   ]
  },
  {
   "cell_type": "markdown",
   "id": "9eaf3a88-3c99-4580-be17-5e4d435a0eb2",
   "metadata": {},
   "source": [
    "Um das Ganze etwas zu vereinfachen, lassen sich in Python Funktionen definieren (siehe den nachfolgenden Code).\n",
    "Dabei beginnt jede Funktion mit dem Schlüsselwort, ``def`` danach folgt die Bezeichnung der Funktion. In den Klammern werden die Parameter der Funktion angegeben. Abschließend muss die Funktion mit ``:`` enden.\n",
    "\n",
    "Damit nun Python weiß, was zu Funktion gehört und was nicht, muss der dazugehörige Code \"eingerückt\" werden. Eingerückt bedeutet, dass die Zeile mit TAB-Taste oder 4 Leerzeichen angefangen wird.\n",
    "\n",
    "Zum Schluss benötigt Python noch ein Hinweis, was das Ergebnis einer Funktion ist. Der Rückgabewert wird über das Statement ``return``angeben.\n",
    "In dem Beispiel gibt die Funktion den Wert 0 zurück, das entspricht der Gleichung $f(v_0,\\alpha) = 0$.\n",
    "\n",
    "**Aufgabe:** Vervollständigen Sie den nachfolgenden Code, um die Berechnung zu vereinfachen."
   ]
  },
  {
   "cell_type": "code",
   "execution_count": null,
   "id": "44eb07e4-9a67-4d12-a9f6-85c2a23f1da4",
   "metadata": {},
   "outputs": [],
   "source": [
    "def reichweite(v_0, alpha):\n",
    "    return 0\n",
    "\n",
    "print(reichweite(100,30)) # Kanone 1\n",
    "print(reichweite(50,45)) # Kanone 2"
   ]
  },
  {
   "cell_type": "markdown",
   "id": "0992d3a3-a28f-46f6-943e-c17c88fe922a",
   "metadata": {},
   "source": [
    "### Wiederholungen & Schleifen\n",
    "Jedoch haben Sie nicht nur eine Kanone in der Schlacht, sondern 164 Kanonen. Alle Kanonen hatten zudem noch andere Parameter, also eine andere Abschussgeschwindigkeit und ein anderer Abschusswinkel. \n",
    "\n",
    "Daher möchte ich Ihnen im nächsten Schritt zeigen, wie Sie beliebig viele Kanonen berechnen können.\n",
    "\n",
    "Dazu gibt es das Konzept von Schleifen in der Informatik, Schleifen sind Wiederholungen, welche so lange ausgeführt werden bis eine bestimmte Bedingung eingetreten ist."
   ]
  },
  {
   "cell_type": "markdown",
   "id": "ec8ba24d-968d-450d-b44a-badebc5c72b0",
   "metadata": {},
   "source": [
    "#### Zählschleife\n",
    "\n",
    "Zählschleifen sind eine besondere Art von Schleifen, welche hauptsächlich zum Hochzählen von Zahlen verwendet werden. \n",
    "Führen Sie dazu folgenden Code aus, um das Verhalten zu verdeutlichen:"
   ]
  },
  {
   "cell_type": "code",
   "execution_count": null,
   "id": "1882dd4f-a828-4b04-89f8-90984fd0f9fa",
   "metadata": {},
   "outputs": [],
   "source": [
    "for i in range(10):\n",
    "    print(i)"
   ]
  },
  {
   "cell_type": "markdown",
   "id": "c5015d39-7ad3-4430-8e88-f03850ca343a",
   "metadata": {},
   "source": [
    "In dem Beispiel werden ihnen die Zahlen von 0 bis 9 ausgeben, dabei entspricht das Argument in dem Befehl ``range(10)`` der Anzahl von Zahlen. In diesem Fall wird von 0 bis 10 - 1 gezählt.\n",
    "\n",
    "**Aufgabe:** Ändern Sie die Zählschleife, sodass die Zahlen von 0 bis 97 ausgegeben werden."
   ]
  },
  {
   "cell_type": "code",
   "execution_count": null,
   "id": "21012b6d-bb76-44df-8479-66a06a290ae4",
   "metadata": {},
   "outputs": [],
   "source": []
  },
  {
   "cell_type": "markdown",
   "id": "e7378cc0-6296-4544-a846-45f1472e7809",
   "metadata": {},
   "source": [
    "**Aufgabe:** Berechnen Sie die Reichweite der Kanonekugel, für die Winkel zwischen 0, 1, 2 bis 90 Grad, mit Hilfe der Funktion ``reichweite(v_0,alpha)``."
   ]
  },
  {
   "cell_type": "code",
   "execution_count": null,
   "id": "72f88c11-7b51-4602-836d-1aa1b40f77e0",
   "metadata": {},
   "outputs": [],
   "source": []
  },
  {
   "cell_type": "markdown",
   "id": "8abf82f9-5e3c-4337-8163-1b4a7404f44d",
   "metadata": {},
   "source": [
    "### Übungsaufgaben\n",
    "**Aufgabe 1** \n",
    "\n",
    "Berechnen Sie die Summe der folgenden Zahlenreihe $1 + 2 + 3 + \\dots + n$ für ein beliebiges $n$"
   ]
  },
  {
   "cell_type": "code",
   "execution_count": null,
   "id": "d926b6c5-0b23-41c0-ba89-ad303460aa9a",
   "metadata": {},
   "outputs": [],
   "source": []
  },
  {
   "cell_type": "markdown",
   "id": "2e45e0ff-c1ea-4973-ab3b-a8f215bbde53",
   "metadata": {},
   "source": [
    "**Aufgabe 2**\n",
    "\n",
    "Die Fibonacci-Folge (https://de.wikipedia.org/wiki/Fibonacci-Folge) ist ein beliebtes Konstrukt in der Mathematik, Informatik und Biologie. \n",
    "Die Folge ergibt sich aus der Summe der beiden vorherigen Zahlen:\n",
    "\n",
    "1 1 2 3 5 8 13 21 und so weiter\n",
    "\n",
    "Lassen Sie sich die Fibonacci-Folge bis zur Stelle 20 auf dem Bildschirm ausgeben."
   ]
  },
  {
   "cell_type": "code",
   "execution_count": null,
   "id": "19314217-20c0-4a9e-a37a-42c87d3c9bdb",
   "metadata": {},
   "outputs": [],
   "source": []
  }
 ],
 "metadata": {
  "kernelspec": {
   "display_name": "Python 3 (ipykernel)",
   "language": "python",
   "name": "python3"
  },
  "language_info": {
   "codemirror_mode": {
    "name": "ipython",
    "version": 3
   },
   "file_extension": ".py",
   "mimetype": "text/x-python",
   "name": "python",
   "nbconvert_exporter": "python",
   "pygments_lexer": "ipython3",
   "version": "3.9.7"
  }
 },
 "nbformat": 4,
 "nbformat_minor": 5
}
