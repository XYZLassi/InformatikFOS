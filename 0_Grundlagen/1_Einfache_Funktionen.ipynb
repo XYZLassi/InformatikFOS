{
 "cells": [
  {
   "cell_type": "markdown",
   "id": "40d806df-a588-4d2c-bc4c-a0a09c0c38f7",
   "metadata": {},
   "source": [
    "# Einfache mathemathische Funktionen\n",
    "\n",
    "\n",
    "mit dem Befehl ```import math``` können sie Mathemathik Bibliothek in die Pythonumgebung laden"
   ]
  },
  {
   "cell_type": "code",
   "execution_count": null,
   "id": "85e0f95a-010c-4ad7-9c23-c77154f64423",
   "metadata": {},
   "outputs": [],
   "source": [
    "import math\n",
    "\n",
    "math.sqrt(2)"
   ]
  },
  {
   "cell_type": "code",
   "execution_count": null,
   "id": "4573d357-df56-49d7-98ff-05d6aedc5583",
   "metadata": {},
   "outputs": [],
   "source": []
  }
 ],
 "metadata": {
  "kernelspec": {
   "display_name": "Python 3 (ipykernel)",
   "language": "python",
   "name": "python3"
  },
  "language_info": {
   "codemirror_mode": {
    "name": "ipython",
    "version": 3
   },
   "file_extension": ".py",
   "mimetype": "text/x-python",
   "name": "python",
   "nbconvert_exporter": "python",
   "pygments_lexer": "ipython3",
   "version": "3.9.7"
  }
 },
 "nbformat": 4,
 "nbformat_minor": 5
}
