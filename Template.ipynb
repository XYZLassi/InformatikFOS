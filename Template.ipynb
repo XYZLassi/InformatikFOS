{
 "cells": [
  {
   "cell_type": "markdown",
   "id": "92a4a959-4ae5-44ec-92fe-4908196ae2a2",
   "metadata": {
    "tags": []
   },
   "source": [
    "# Template Name\n",
    "\n",
    "\n",
    "**Trainingsaufgaben:**\n",
    "\n",
    "1. \n",
    "\n",
    "**Pflichtaufgaben:**\n",
    "\n",
    "1. \n",
    "\n",
    "2. \n",
    "\n",
    "3. \n",
    "\n",
    "**Weiterführende Aufgaben:**\n",
    "\n",
    "1. "
   ]
  },
  {
   "cell_type": "markdown",
   "id": "449cf3e4-0ec2-4935-a770-833cc852c9c2",
   "metadata": {
    "tags": []
   },
   "source": [
    "## Trainingsaufgaben"
   ]
  },
  {
   "cell_type": "markdown",
   "id": "eb49905c-411d-4f75-8d0a-acbffa80968d",
   "metadata": {},
   "source": [
    "## Pflichtaufgaben"
   ]
  },
  {
   "cell_type": "markdown",
   "id": "0643deb3-e4eb-462c-9fa9-64f1d7bc5958",
   "metadata": {},
   "source": [
    "## Weiterführende Aufgaben"
   ]
  }
 ],
 "metadata": {
  "kernelspec": {
   "display_name": "Python 3 (ipykernel)",
   "language": "python",
   "name": "python3"
  },
  "language_info": {
   "codemirror_mode": {
    "name": "ipython",
    "version": 3
   },
   "file_extension": ".py",
   "mimetype": "text/x-python",
   "name": "python",
   "nbconvert_exporter": "python",
   "pygments_lexer": "ipython3",
   "version": "3.9.7"
  }
 },
 "nbformat": 4,
 "nbformat_minor": 5
}
