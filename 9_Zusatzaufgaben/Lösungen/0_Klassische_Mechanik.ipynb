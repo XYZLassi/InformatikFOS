{
 "cells": [
  {
   "cell_type": "markdown",
   "id": "882e6215-55cc-4a5d-ba75-4e96c20a4e61",
   "metadata": {},
   "source": [
    "# Klassische Mechanik\n",
    "\n",
    "**Trainingsaufgaben:**\n",
    "\n",
    "1. Geschwindigkeit im freien Fall\n",
    "\n",
    "**Pflichtaufgaben:**\n",
    "\n",
    "1. Energie eines bewegten Körpers\n",
    "\n",
    "2. Tiefe eines Schachtes\n",
    "\n",
    "3. Abschuss einer Leuchtkugel\n",
    "\n",
    "**Weiterführende Aufgaben:**\n",
    "\n",
    "1. Geschwindigkeit im freien Fall - Diagramm"
   ]
  },
  {
   "cell_type": "markdown",
   "id": "a5a44892-f1e4-46e4-839a-f6cc9ec8c83b",
   "metadata": {},
   "source": [
    "## Trainingsaufgaben"
   ]
  },
  {
   "cell_type": "markdown",
   "id": "bc8f503c-4330-4c47-8aca-eab5191100de",
   "metadata": {},
   "source": [
    "### Geschwindigkeit im freien Fall\n",
    "\n",
    "**Lösungsgleichungen:**\n",
    "\n",
    "$v(t) = g \\cdot t$\n",
    "\n",
    "**Lösungen:**\n",
    "1. Sekunde: $9,81 \\frac{\\text{m}}{s}$\n",
    "2. Sekunde: $19,62 \\frac{\\text{m}}{s}$\n",
    "3. Sekunde: $29,43 \\frac{\\text{m}}{s}$\n",
    "4. Sekunde: $39,24 \\frac{\\text{m}}{s}$"
   ]
  },
  {
   "cell_type": "code",
   "execution_count": null,
   "id": "1e0094a2-29ff-407d-893b-3246f588b5a0",
   "metadata": {},
   "outputs": [],
   "source": []
  },
  {
   "cell_type": "code",
   "execution_count": null,
   "id": "6efce665-f194-43b3-98fa-571f8fa6c2c0",
   "metadata": {},
   "outputs": [],
   "source": [
    "### Geschwindigkeit im freien Fall\n",
    "\n",
    "g = 9.81\n",
    "t = 1\n",
    "\n",
    "v = g * t \n",
    "v"
   ]
  },
  {
   "cell_type": "markdown",
   "id": "51a2e8c7-9b71-49d9-b7b2-b357112d80c8",
   "metadata": {},
   "source": [
    "### Beschleunigung eines PKWs\n",
    "\n",
    "**Lösungsgleichungen:**\n",
    "\n",
    "$a = v \\cdot t$ \n",
    "\n",
    "$s = \\frac{1}{2} \\cdot a \\cdot t^2$\n",
    "\n",
    "**Lösungen:**\n",
    "\n",
    "1. $a = 0,66 \\frac{\\text{m}}{\\text{s}}$\n",
    "\n",
    "2. $b =450 \\text{m}$\n",
    "\n",
    "3. $a = 1 \\frac{\\text{m}}{\\text{s}}$ & $b = 300 \\text{m}$"
   ]
  },
  {
   "cell_type": "code",
   "execution_count": null,
   "id": "4327a571-2b52-40ce-9d1e-2dcd4bc18356",
   "metadata": {},
   "outputs": [],
   "source": [
    "# Beschleunigung\n",
    "\n",
    "v_anfang = 90 # km/h\n",
    "v_ende = 126 # km/h\n",
    "\n",
    "v_diff = (v_ende - v_anfang)/3.6 # m/s\n",
    "\n",
    "t = 15 # s\n",
    "\n",
    "a = v_diff/t # m/s^2\n",
    "a"
   ]
  },
  {
   "cell_type": "code",
   "execution_count": null,
   "id": "03be2ad8-8031-4b21-82f0-1e616730db3e",
   "metadata": {},
   "outputs": [],
   "source": [
    "# Gesamtweg\n",
    "\n",
    "v_anfang = 90 # km/h\n",
    "v_ende = 126 # km/h\n",
    "\n",
    "v_diff = (v_ende - v_anfang)/3.6 # m/s\n",
    "\n",
    "t = 15 # s\n",
    "\n",
    "a = v_diff/t\n",
    "\n",
    "s_0 = v_anfang /3.6 * t # m\n",
    "\n",
    "s = s_0 + 1/2 * a * t**2 # m\n",
    "s"
   ]
  },
  {
   "cell_type": "code",
   "execution_count": null,
   "id": "d90d1067-f9e1-4ae0-97c6-f4ec75effdb6",
   "metadata": {},
   "outputs": [],
   "source": [
    "# Gesamtweg & Beschleunigung für t = 10s\n",
    "\n",
    "v_anfang = 90 # km/h\n",
    "v_ende = 126 # km/h\n",
    "\n",
    "v_diff = (v_ende - v_anfang)/3.6 # m/s\n",
    "\n",
    "t = 10 # s\n",
    "\n",
    "a = v_diff/t\n",
    "\n",
    "s_0 = v_anfang /3.6 * t # m\n",
    "\n",
    "s = s_0 + 1/2 * a * t**2 # m\n",
    "\n",
    "print(f'a={a}')\n",
    "print(f's={s}')"
   ]
  },
  {
   "cell_type": "markdown",
   "id": "8f26f5ef-83f9-473f-9775-7fd7242535dd",
   "metadata": {},
   "source": [
    "## Pflichtaufgaben"
   ]
  },
  {
   "cell_type": "markdown",
   "id": "0fa2174c-f39f-4e9e-ad99-d3ed4c0e24c6",
   "metadata": {},
   "source": [
    "### Energie eines bewegten Körpers\n",
    "\n",
    "**Lösungsgleichungen:**\n",
    "\n",
    "$E = \\frac{1}{2} \\cdot m \\cdot v^2$ \n",
    "\n",
    "**Lösungen:**\n",
    "\n",
    "$E = 6250 \\text{Nm}$"
   ]
  },
  {
   "cell_type": "code",
   "execution_count": null,
   "id": "8fd42161-43cd-4898-80c5-99d19986bf96",
   "metadata": {},
   "outputs": [],
   "source": [
    "m = 5 # kg\n",
    "v = 50 # m/s\n",
    "\n",
    "E = 1/2 * m * v**2 #Nm\n",
    "E"
   ]
  },
  {
   "cell_type": "markdown",
   "id": "2baaac3d-e8e1-43ac-9196-cae10cbfde5b",
   "metadata": {},
   "source": [
    "### Tiefe eines Schachtes\n",
    "\n",
    "**Lösungsgleichungen:**\n",
    "\n",
    "$h = 1/2 \\cdot g \\cdot t^2$ (ohne Schallgeschwindigkeit)\n",
    "\n",
    "$h = \\left(- \\frac{c}{\\sqrt{2 g}} + \\sqrt{ \\frac{c^2}{2g} + t c }  \\right)^2$\n",
    "\n",
    "**Lösungen:**\n",
    "\n",
    "1. $h = 103,8 \\text{m}$\n",
    "\n",
    "2. $h = 92 \\text{m}$"
   ]
  },
  {
   "cell_type": "code",
   "execution_count": null,
   "id": "4f27144c-afcb-4591-aebf-5a1cdef44c8c",
   "metadata": {},
   "outputs": [],
   "source": [
    "g = 9.81 # m/s^2\n",
    "t = 4.6\n",
    "\n",
    "\n",
    "h = 1/2 * g * t**2\n",
    "h"
   ]
  },
  {
   "cell_type": "code",
   "execution_count": null,
   "id": "97c8e14d-5827-49db-aef5-65d4d9b18c1d",
   "metadata": {},
   "outputs": [],
   "source": [
    "import math\n",
    "\n",
    "c = 340 # m/s\n",
    "t = 4.6\n",
    "g = 9.81\n",
    "\n",
    "\n",
    "\n",
    "h = (-  c/math.sqrt(2 * g) + math.sqrt(c**2 /(2*g) + t * c )  )**2\n",
    "h"
   ]
  },
  {
   "cell_type": "markdown",
   "id": "e9a321ee-b98a-48b4-ace7-6259c7206675",
   "metadata": {},
   "source": [
    "### Abschuss einer Leuchtkugel\n",
    "\n",
    "**Lösungsgleichungen:**\n",
    "\n",
    "$h = v_a \\cdot t - \\frac{1}{2} \\cdot g \\cdot t^2$\n",
    "\n",
    "**Lösungen:**\n",
    "\n",
    "1. $486 \\text{m}$\n",
    "\n",
    "2. $493,7 \\text{m}$"
   ]
  },
  {
   "cell_type": "code",
   "execution_count": null,
   "id": "0da2635c-f2c9-4be1-9929-c7c17eeff33d",
   "metadata": {},
   "outputs": [],
   "source": [
    "va = 100 # m/s\n",
    "t = 8 # s\n",
    "g = 9.81 # m/s^2\n",
    "\n",
    "h = va * t - 1/2 * g * t**2 # m\n",
    "h"
   ]
  },
  {
   "cell_type": "code",
   "execution_count": 46,
   "id": "fb8c2447-90e1-4c17-b962-4f0e0aa4d144",
   "metadata": {},
   "outputs": [
    {
     "data": {
      "text/plain": [
       "493.67999999999995"
      ]
     },
     "execution_count": 46,
     "metadata": {},
     "output_type": "execute_result"
    }
   ],
   "source": [
    "va = 100 # m/s\n",
    "t = 12 # s\n",
    "g = 9.81 # m/s^2\n",
    "\n",
    "h = va * t - 1/2 * g * t**2 # m\n",
    "h"
   ]
  },
  {
   "cell_type": "markdown",
   "id": "8695d8ac-9835-4390-94c7-89ce25d28aaf",
   "metadata": {},
   "source": [
    "## Weiterführende Aufgaben"
   ]
  },
  {
   "cell_type": "markdown",
   "id": "6fae876f-f923-4a38-aec1-83b6a3b5c7fc",
   "metadata": {},
   "source": [
    "### Geschwindigkeit im freien Fall - Diagramm"
   ]
  },
  {
   "cell_type": "code",
   "execution_count": 47,
   "id": "85935e4d-7ffc-49ef-9820-ebf3d836b4a2",
   "metadata": {},
   "outputs": [
    {
     "data": {
      "text/plain": [
       "[<matplotlib.lines.Line2D at 0x7f629cf4ff10>]"
      ]
     },
     "execution_count": 47,
     "metadata": {},
     "output_type": "execute_result"
    },
    {
     "data": {
      "image/png": "[encoded data removed]",
      "text/plain": [
       "<Figure size 432x288 with 1 Axes>"
      ]
     },
     "metadata": {
      "needs_background": "light"
     },
     "output_type": "display_data"
    }
   ],
   "source": [
    "import numpy as np # Import die Bibliothek Numpy\n",
    "import matplotlib.pyplot as plt # Importiert die Bibliothek matplotlib\n",
    "\n",
    "\n",
    "g = 9.81 # Definiert die Variable g mit einem Wert von 9.81 m/s^2\n",
    "t = np.linspace(0,10) # Definiert die Variable t mit einer Zeit von 0 bis 10 Sekunden\n",
    "\n",
    "\n",
    "v = g * t # Berechnet die Geschwindigkeit und speichert die Werte in der Variablen s\n",
    "\n",
    "plt.plot(t,v) # Zeichnet ein Diagramm mit der Zeit t als X-Achse und v als Y-Achse"
   ]
  },
  {
   "cell_type": "code",
   "execution_count": 48,
   "id": "4bfe633e-bbdc-4993-bd85-eef086aaea20",
   "metadata": {},
   "outputs": [
    {
     "data": {
      "text/plain": [
       "[<matplotlib.lines.Line2D at 0x7f629ce574c0>]"
      ]
     },
     "execution_count": 48,
     "metadata": {},
     "output_type": "execute_result"
    },
    {
     "data": {
      "image/png": "[encoded data removed]",
      "text/plain": [
       "<Figure size 432x288 with 1 Axes>"
      ]
     },
     "metadata": {
      "needs_background": "light"
     },
     "output_type": "display_data"
    }
   ],
   "source": [
    "import numpy as np # Import die Bibliothek Numpy\n",
    "import matplotlib.pyplot as plt # Importiert die Bibliothek matplotlib\n",
    "\n",
    "\n",
    "g = 9.81 # Definiert die Variable g mit einem Wert von 9.81 m/s^2\n",
    "t = np.linspace(0,10) # Definiert die Variable t mit einer Zeit von 0 bis 10 Sekunden\n",
    "\n",
    "\n",
    "s = 1/2 * g * t**2 # Berechnet den zurück gelegten Weg und speichert die Werte in der Variablen s\n",
    "\n",
    "plt.plot(t,s) # Zeichnet ein Diagramm mit der Zeit t als X-Achse und v als Y-Achse"
   ]
  },
  {
   "cell_type": "code",
   "execution_count": null,
   "id": "bf8f8efb-22be-49b5-ab14-2939dd9309a3",
   "metadata": {},
   "outputs": [],
   "source": []
  }
 ],
 "metadata": {
  "kernelspec": {
   "display_name": "Python 3 (ipykernel)",
   "language": "python",
   "name": "python3"
  },
  "language_info": {
   "codemirror_mode": {
    "name": "ipython",
    "version": 3
   },
   "file_extension": ".py",
   "mimetype": "text/x-python",
   "name": "python",
   "nbconvert_exporter": "python",
   "pygments_lexer": "ipython3",
   "version": "3.9.7"
  }
 },
 "nbformat": 4,
 "nbformat_minor": 5
}
