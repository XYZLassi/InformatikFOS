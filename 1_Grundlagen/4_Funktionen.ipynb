{
 "cells": [
  {
   "cell_type": "markdown",
   "id": "bea9781d-c004-4e39-b32c-4d3532309f2d",
   "metadata": {},
   "source": [
    "# Funktionen\n",
    "\n",
    "Eine Funktion (englisch function) ist in der Informatik und in verschiedenen höheren Programmiersprachen die Bezeichnung eines Programmkonstrukts, mit dem der Programm-Quellcode strukturiert werden kann, so dass Teile der Funktionalität des Programms wiederverwendbar sind.\n",
    "\n",
    "Quelle: https://de.wikipedia.org/wiki/Funktion_(Programmierung)\n",
    "\n",
    "Tutorials:\n",
    "- https://www.python-kurs.eu/python3_funktionen.php\n",
    "\n",
    "Videos:\n",
    "- https://youtu.be/cdsL1EXs7LE"
   ]
  },
  {
   "cell_type": "markdown",
   "id": "cf1c2f4b-5b9e-4851-8da1-6a990fb2b055",
   "metadata": {},
   "source": [
    "## Funktionen für Mathemathische Operationen"
   ]
  },
  {
   "cell_type": "code",
   "execution_count": null,
   "id": "d14166b6-b71c-47c0-94b3-370938e25e56",
   "metadata": {},
   "outputs": [],
   "source": [
    "# Mathemathische Funktionen\n",
    "\n",
    "def f(x):\n",
    "    return 3*x + 6\n",
    "\n",
    "f(2)"
   ]
  },
  {
   "cell_type": "markdown",
   "id": "078bac38-c001-4584-bf9b-27ff5ec7f123",
   "metadata": {},
   "source": [
    "## Return\n",
    "\n",
    "Mit dem Statment ```return``` können beliebige Werte aus der Funktion zurückgeben werden."
   ]
  },
  {
   "cell_type": "code",
   "execution_count": null,
   "id": "46bae4d8-b34e-4f20-b809-1353b39de8d3",
   "metadata": {},
   "outputs": [],
   "source": [
    "def f(x):\n",
    "    y = 3*x + 6\n",
    "    return y\n",
    "\n",
    "f(2)"
   ]
  }
 ],
 "metadata": {
  "kernelspec": {
   "display_name": "Python 3 (ipykernel)",
   "language": "python",
   "name": "python3"
  },
  "language_info": {
   "codemirror_mode": {
    "name": "ipython",
    "version": 3
   },
   "file_extension": ".py",
   "mimetype": "text/x-python",
   "name": "python",
   "nbconvert_exporter": "python",
   "pygments_lexer": "ipython3",
   "version": "3.9.7"
  }
 },
 "nbformat": 4,
 "nbformat_minor": 5
}
