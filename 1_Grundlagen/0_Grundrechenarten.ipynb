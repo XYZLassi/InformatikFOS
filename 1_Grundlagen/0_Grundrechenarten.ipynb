{
 "cells": [
  {
   "cell_type": "markdown",
   "id": "2bdd2e1f-35bb-4410-be98-17aecfde5972",
   "metadata": {
    "tags": []
   },
   "source": [
    "# Grundrechenarten in Python"
   ]
  },
  {
   "cell_type": "markdown",
   "id": "04d705ea-f106-4f34-80c3-11984c93f22e",
   "metadata": {},
   "source": [
    "### Weiterführende Links:\n",
    "- https://www.python-kurs.eu/python3_operatoren.php"
   ]
  },
  {
   "cell_type": "markdown",
   "id": "813cb354-50d2-4ffd-b880-ffe3edfb48d4",
   "metadata": {
    "tags": []
   },
   "source": [
    "## Addition und Subtraction\n",
    "\n",
    "Führen Sie die nächste Zellen aus, indem Sie in die enstprechende Zelle klicken und mit Strg + Enter die Operation ausführen."
   ]
  },
  {
   "cell_type": "code",
   "execution_count": null,
   "id": "31f4972d-68f7-4ede-be41-d0addad95eaa",
   "metadata": {},
   "outputs": [],
   "source": [
    "3 + 3"
   ]
  },
  {
   "cell_type": "code",
   "execution_count": null,
   "id": "92bdf5bd-f5e2-47e9-aa82-afe43ffaed73",
   "metadata": {},
   "outputs": [],
   "source": [
    "3 + 3 + 1"
   ]
  },
  {
   "cell_type": "code",
   "execution_count": null,
   "id": "6c9c56a8-63f8-4a33-99f7-419fd43691b0",
   "metadata": {},
   "outputs": [],
   "source": [
    "3 - 2 "
   ]
  },
  {
   "cell_type": "markdown",
   "id": "624f6d60-376d-4307-921d-87d037089b95",
   "metadata": {
    "tags": []
   },
   "source": [
    "## Mulitplikation und Division\n",
    "\n",
    "Führen Sie die nächste Zellen aus, indem Sie in die enstprechende Zelle klicken und mit Strg + Enter die Operation ausführen."
   ]
  },
  {
   "cell_type": "code",
   "execution_count": null,
   "id": "a09e949e-0d68-46a2-9922-44d8ee1acdab",
   "metadata": {},
   "outputs": [],
   "source": [
    " 3 * 3"
   ]
  },
  {
   "cell_type": "code",
   "execution_count": null,
   "id": "020850b0-d798-4802-9e11-91673ee651b4",
   "metadata": {},
   "outputs": [],
   "source": [
    "3 * 3 * 1 "
   ]
  },
  {
   "cell_type": "code",
   "execution_count": null,
   "id": "6ac00a7b-ce90-4d20-93ee-39d3d8a659f6",
   "metadata": {},
   "outputs": [],
   "source": [
    "4 / 2"
   ]
  },
  {
   "cell_type": "code",
   "execution_count": null,
   "id": "deda95cd-3d62-4609-b7a6-bca6d27a45fe",
   "metadata": {},
   "outputs": [],
   "source": [
    "4 / 2 * 3"
   ]
  },
  {
   "cell_type": "markdown",
   "id": "a430ed99-3085-4492-9cc3-d6de204d33be",
   "metadata": {
    "tags": []
   },
   "source": [
    "## Ganzzahl Division\n",
    "\n",
    "Manchmal ist es sinnvoll, dass bei einer Division eine ganze Zahl als Ergebnis herauskommt. Das ganze funktioniert mit der Ganzzahl Division.\n",
    "\n",
    "Führen Sie die nächste Zellen aus, indem Sie in die enstprechende Zelle klicken und mit Strg + Enter die Operation ausführen."
   ]
  },
  {
   "cell_type": "code",
   "execution_count": null,
   "id": "dbbb1e0b-54d1-4379-9ed0-9b5c0b69b42b",
   "metadata": {},
   "outputs": [],
   "source": [
    "3 // 3 "
   ]
  },
  {
   "cell_type": "code",
   "execution_count": null,
   "id": "66c031af-2500-46eb-9d19-226f2771f5bc",
   "metadata": {},
   "outputs": [],
   "source": [
    "3 // 2"
   ]
  },
  {
   "cell_type": "code",
   "execution_count": null,
   "id": "150e78b5-3594-498c-bc59-a62f1958af90",
   "metadata": {},
   "outputs": [],
   "source": [
    "1 // 2"
   ]
  },
  {
   "cell_type": "code",
   "execution_count": null,
   "id": "3a3b53ae-add8-4d66-8335-b0fc7be3f007",
   "metadata": {},
   "outputs": [],
   "source": [
    "5123 // 3"
   ]
  },
  {
   "cell_type": "markdown",
   "id": "c17766dd-d702-49fc-8a19-adb4431993e9",
   "metadata": {},
   "source": [
    "## Division mit Rest \n",
    "\n",
    "Bei vielen Algorithmen wird der Rest einer Division benötigt.\n",
    "\n",
    "Führen Sie die nächste Zellen aus, indem Sie in die enstprechende Zelle klicken und mit Strg + Enter die Operation ausführen."
   ]
  },
  {
   "cell_type": "code",
   "execution_count": null,
   "id": "7fafbec4-160d-4d12-ad49-b20535e17b42",
   "metadata": {},
   "outputs": [],
   "source": [
    "3 % 2"
   ]
  },
  {
   "cell_type": "code",
   "execution_count": null,
   "id": "6d89a87c-a1bf-459d-ada4-b9ca7cc87784",
   "metadata": {},
   "outputs": [],
   "source": [
    "2 % 2 "
   ]
  }
 ],
 "metadata": {
  "kernelspec": {
   "display_name": "Python 3 (ipykernel)",
   "language": "python",
   "name": "python3"
  },
  "language_info": {
   "codemirror_mode": {
    "name": "ipython",
    "version": 3
   },
   "file_extension": ".py",
   "mimetype": "text/x-python",
   "name": "python",
   "nbconvert_exporter": "python",
   "pygments_lexer": "ipython3",
   "version": "3.9.7"
  }
 },
 "nbformat": 4,
 "nbformat_minor": 5
}
