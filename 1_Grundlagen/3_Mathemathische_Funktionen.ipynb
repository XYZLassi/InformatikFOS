{
 "cells": [
  {
   "cell_type": "markdown",
   "id": "8d1d41ff-0f4b-401b-a9c8-a065d87490fd",
   "metadata": {},
   "source": [
    "# Mathemathische Funktionen"
   ]
  },
  {
   "cell_type": "markdown",
   "id": "a67d1152-f8af-4665-8db2-08be945c87f1",
   "metadata": {},
   "source": [
    "## Wurzel"
   ]
  },
  {
   "cell_type": "code",
   "execution_count": 1,
   "id": "f007d15f-69e0-4714-ab77-50feb98c49d1",
   "metadata": {},
   "outputs": [
    {
     "data": {
      "text/plain": [
       "5.0"
      ]
     },
     "execution_count": 1,
     "metadata": {},
     "output_type": "execute_result"
    }
   ],
   "source": [
    "import math\n",
    "\n",
    "math.sqrt(3**2 + 4**2)"
   ]
  },
  {
   "cell_type": "markdown",
   "id": "43880cce-7614-48a9-a652-5af2dae6fe34",
   "metadata": {},
   "source": [
    "## Umrechnen zwischen Radiant und Grad"
   ]
  },
  {
   "cell_type": "code",
   "execution_count": 2,
   "id": "0feabb6a-bb88-4f11-882e-580b79219894",
   "metadata": {},
   "outputs": [
    {
     "data": {
      "text/plain": [
       "0.7853981633974483"
      ]
     },
     "execution_count": 2,
     "metadata": {},
     "output_type": "execute_result"
    }
   ],
   "source": [
    "# Grad in Radiant\n",
    "import math\n",
    "\n",
    "math.radians(45) # 45 Grad in Radiant"
   ]
  },
  {
   "cell_type": "code",
   "execution_count": 3,
   "id": "2d722c8a-dcde-4aae-ab5f-1ec91d51e5ff",
   "metadata": {},
   "outputs": [
    {
     "data": {
      "text/plain": [
       "90.0"
      ]
     },
     "execution_count": 3,
     "metadata": {},
     "output_type": "execute_result"
    }
   ],
   "source": [
    "# Radiant in Grad\n",
    "import math\n",
    "\n",
    "math.degrees(math.pi/2)"
   ]
  },
  {
   "cell_type": "markdown",
   "id": "30180415-9b7c-4af1-827b-7f169590c89b",
   "metadata": {},
   "source": [
    "## Trigometrische Funktionen\n",
    "\n",
    "**Achtung:** Die Parameter müssen in Radiant angegeben werden!"
   ]
  },
  {
   "cell_type": "code",
   "execution_count": 4,
   "id": "7893014d-0e74-4b64-86dd-556947f1953b",
   "metadata": {},
   "outputs": [
    {
     "data": {
      "text/plain": [
       "0.7071067811865475"
      ]
     },
     "execution_count": 4,
     "metadata": {},
     "output_type": "execute_result"
    }
   ],
   "source": [
    "# Sinus\n",
    "import math\n",
    "\n",
    "alpha_rad = math.radians(45)\n",
    "\n",
    "math.sin(alpha_rad)"
   ]
  },
  {
   "cell_type": "code",
   "execution_count": 5,
   "id": "2526e70e-41c2-49e9-8d71-3a728ab6b137",
   "metadata": {},
   "outputs": [
    {
     "data": {
      "text/plain": [
       "0.7071067811865476"
      ]
     },
     "execution_count": 5,
     "metadata": {},
     "output_type": "execute_result"
    }
   ],
   "source": [
    "# Cosinus\n",
    "import math\n",
    "\n",
    "alpha_rad = math.radians(45)\n",
    "\n",
    "math.cos(alpha_rad)"
   ]
  },
  {
   "cell_type": "code",
   "execution_count": 6,
   "id": "91b3f420-3449-427f-a700-668cdeaef013",
   "metadata": {},
   "outputs": [
    {
     "data": {
      "text/plain": [
       "0.9999999999999999"
      ]
     },
     "execution_count": 6,
     "metadata": {},
     "output_type": "execute_result"
    }
   ],
   "source": [
    "# Tangens\n",
    "import math\n",
    "\n",
    "alpha_rad = math.radians(45)\n",
    "\n",
    "math.tan(alpha_rad)"
   ]
  },
  {
   "cell_type": "markdown",
   "id": "39946fb8-d81d-4970-ae1b-37fa8502efe7",
   "metadata": {},
   "source": [
    "## Trigometrische Umkehrfunktionen\n",
    "\n",
    "**Achtung:** Die Ergebnisse werden immer in Radiant angeben"
   ]
  },
  {
   "cell_type": "code",
   "execution_count": 7,
   "id": "c029c49b-d465-4a4d-b5f8-637b1753e97b",
   "metadata": {},
   "outputs": [
    {
     "data": {
      "text/plain": [
       "45.00000000000001"
      ]
     },
     "execution_count": 7,
     "metadata": {},
     "output_type": "execute_result"
    }
   ],
   "source": [
    "# Arkussinus\n",
    "import math\n",
    "\n",
    "sinus = math.sqrt(2)/2\n",
    "\n",
    "math.degrees(math.asin(sinus))"
   ]
  },
  {
   "cell_type": "code",
   "execution_count": 8,
   "id": "ca2e4c57-9978-4470-9ca2-aa2ce3ec9de5",
   "metadata": {},
   "outputs": [
    {
     "data": {
      "text/plain": [
       "45.0"
      ]
     },
     "execution_count": 8,
     "metadata": {},
     "output_type": "execute_result"
    }
   ],
   "source": [
    "# Arkussinus\n",
    "import math\n",
    "\n",
    "cosinus = math.sqrt(2)/2\n",
    "\n",
    "math.degrees(math.acos(sinus))"
   ]
  }
 ],
 "metadata": {
  "kernelspec": {
   "display_name": "Python 3 (ipykernel)",
   "language": "python",
   "name": "python3"
  },
  "language_info": {
   "codemirror_mode": {
    "name": "ipython",
    "version": 3
   },
   "file_extension": ".py",
   "mimetype": "text/x-python",
   "name": "python",
   "nbconvert_exporter": "python",
   "pygments_lexer": "ipython3",
   "version": "3.9.7"
  }
 },
 "nbformat": 4,
 "nbformat_minor": 5
}
