{
 "cells": [
  {
   "cell_type": "markdown",
   "id": "ec40b508-9551-412b-aa2e-e868f71a1cec",
   "metadata": {},
   "source": [
    "# Variablen\n",
    "\n",
    "**Videos:**\n",
    "- Weitz,Edmund: Python: Variablen (https://youtu.be/tZcYkeffmGs)"
   ]
  },
  {
   "cell_type": "markdown",
   "id": "8aee6ae8-3804-402a-87a9-59ebddd34645",
   "metadata": {},
   "source": [
    "## Speichern von Inhalten in Variablen"
   ]
  },
  {
   "cell_type": "code",
   "execution_count": 4,
   "id": "214167c5-c17f-4eea-90f2-501ee825c0ea",
   "metadata": {},
   "outputs": [],
   "source": [
    "# Speichert die Zahl 5 in der Variable a\n",
    "\n",
    "a = 5"
   ]
  },
  {
   "cell_type": "markdown",
   "id": "89a9879b-aba3-4a2f-9ae3-132f31a5a6cd",
   "metadata": {},
   "source": [
    "## Rechnen mit Variablen"
   ]
  },
  {
   "cell_type": "code",
   "execution_count": 5,
   "id": "187f1868-1224-4a73-9128-337176bb3a2a",
   "metadata": {},
   "outputs": [
    {
     "data": {
      "text/plain": [
       "7"
      ]
     },
     "execution_count": 5,
     "metadata": {},
     "output_type": "execute_result"
    }
   ],
   "source": [
    "a = 4\n",
    "b = 3\n",
    "\n",
    "a + b"
   ]
  }
 ],
 "metadata": {
  "kernelspec": {
   "display_name": "Python 3 (ipykernel)",
   "language": "python",
   "name": "python3"
  },
  "language_info": {
   "codemirror_mode": {
    "name": "ipython",
    "version": 3
   },
   "file_extension": ".py",
   "mimetype": "text/x-python",
   "name": "python",
   "nbconvert_exporter": "python",
   "pygments_lexer": "ipython3",
   "version": "3.9.7"
  }
 },
 "nbformat": 4,
 "nbformat_minor": 5
}
