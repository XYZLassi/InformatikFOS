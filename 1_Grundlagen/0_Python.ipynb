{
 "cells": [
  {
   "cell_type": "markdown",
   "id": "f4e5ef65-23f8-4c57-8fe1-be14c09c3f91",
   "metadata": {},
   "source": [
    "# Python"
   ]
  },
  {
   "cell_type": "markdown",
   "id": "b4461e81-685d-47fb-9054-98ce99ff31d1",
   "metadata": {},
   "source": [
    "## Kommentare\n",
    "\n",
    "Kommentare sind ein wichtiges Hilfsmittel in fast jeder Programmiersprache. Kommentare werden nicht ausgeführt, sondern dienen nur zur Veranschaulichung des Programmcode.\n",
    "\n",
    "In Python werden Kommentare mit einer '#' bekommen."
   ]
  },
  {
   "cell_type": "code",
   "execution_count": null,
   "id": "0066df87-c954-43e8-a3a8-e74da63522c4",
   "metadata": {},
   "outputs": [],
   "source": [
    "5 # Das ist die Zahl 5"
   ]
  },
  {
   "cell_type": "code",
   "execution_count": null,
   "id": "9cc4fce6-634e-4415-9cfa-409f28d5fecf",
   "metadata": {},
   "outputs": [],
   "source": [
    "# Wird 5 * 5 gerechnet\n",
    "5*5"
   ]
  }
 ],
 "metadata": {
  "kernelspec": {
   "display_name": "Python 3 (ipykernel)",
   "language": "python",
   "name": "python3"
  },
  "language_info": {
   "codemirror_mode": {
    "name": "ipython",
    "version": 3
   },
   "file_extension": ".py",
   "mimetype": "text/x-python",
   "name": "python",
   "nbconvert_exporter": "python",
   "pygments_lexer": "ipython3",
   "version": "3.9.7"
  }
 },
 "nbformat": 4,
 "nbformat_minor": 5
}
